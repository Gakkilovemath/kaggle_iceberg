{
 "cells": [
  {
   "cell_type": "markdown",
   "metadata": {},
   "source": [
    "# Kaggle Competition:  Iceberg or Ship"
   ]
  },
  {
   "cell_type": "markdown",
   "metadata": {},
   "source": [
    "## Notebook 3\n",
    "## run resnext50 architecture"
   ]
  },
  {
   "cell_type": "code",
   "execution_count": 1,
   "metadata": {},
   "outputs": [
    {
     "name": "stdout",
     "output_type": "stream",
     "text": [
      "total 516\r\n",
      "-rw-rw-r-- 1 nidhin nidhin 120934 Jan 13 18:20 1_getdata.ipynb\r\n",
      "-rw-rw-r-- 1 nidhin nidhin 245611 Jan 13 17:48 2_model_resnet34.ipynb\r\n",
      "-rw-rw-r-- 1 nidhin nidhin   7274 Jan 13 19:56 3_model_resnext50.ipynb\r\n",
      "-rw-rw-r-- 1 nidhin nidhin 136525 Jan 13 20:16 baseline.ipynb\r\n",
      "-rw-rw-r-- 1 nidhin nidhin    536 Jan 13 19:15 helper.py\r\n",
      "drwxrwxr-x 2 nidhin nidhin   4096 Jan 13 19:15 __pycache__\r\n",
      "-rw-rw-r-- 1 nidhin nidhin    185 Jan 13 17:48 README.md\r\n"
     ]
    }
   ],
   "source": [
    "!ls -l"
   ]
  },
  {
   "cell_type": "code",
   "execution_count": 2,
   "metadata": {},
   "outputs": [],
   "source": [
    "# Put these at the top of every notebook, to get automatic reloading and inline plotting\n",
    "%reload_ext autoreload\n",
    "%autoreload 2\n",
    "%matplotlib inline"
   ]
  },
  {
   "cell_type": "code",
   "execution_count": 3,
   "metadata": {},
   "outputs": [],
   "source": [
    "from fastai.imports import *"
   ]
  },
  {
   "cell_type": "code",
   "execution_count": 4,
   "metadata": {},
   "outputs": [],
   "source": [
    "# This file contains all the main external libs we'll use\n",
    "from fastai.imports import *\n",
    "from fastai.transforms import *\n",
    "from fastai.conv_learner import *\n",
    "from fastai.model import *\n",
    "from fastai.dataset import *\n",
    "from fastai.sgdr import *\n",
    "from fastai.plots import *\n",
    "import pandas as pd\n",
    "import numpy as np\n",
    "import shutil\n",
    "from IPython.display import FileLink, FileLinks\n",
    "\n",
    "from sklearn.model_selection import train_test_split\n",
    "import helper"
   ]
  },
  {
   "cell_type": "code",
   "execution_count": 6,
   "metadata": {},
   "outputs": [],
   "source": [
    "#PATH = \"/home/nidhin/data/iceberg/\"\n",
    "PATH = os.path.expanduser(\"~/data/iceberg/\")"
   ]
  },
  {
   "cell_type": "code",
   "execution_count": 7,
   "metadata": {},
   "outputs": [
    {
     "name": "stdout",
     "output_type": "stream",
     "text": [
      "total 1975496\r\n",
      "drwxrwxr-x  2 nidhin nidhin       4096 Jan 13 19:06 models\r\n",
      "-rw-rw-r--  1 nidhin nidhin     117951 Oct 23 17:27 sample_submission.csv\r\n",
      "-rw-rw-r--  1 nidhin nidhin      38566 Jan  7 20:28 sample_submission.csv.7z\r\n",
      "drwxrwxr-x  3 nidhin nidhin       4096 Jan 13 19:20 sub\r\n",
      "drwxrwxr-x  2 nidhin nidhin     286720 Jan 13 17:51 test\r\n",
      "-rw-rw-r--  1 nidhin nidhin 1521771850 Oct 23 17:27 test.json\r\n",
      "-rw-rw-r--  1 nidhin nidhin  257127394 Jan  7 20:28 test.json.7z\r\n",
      "drwxrwxr-x 11 nidhin nidhin       4096 Jan 13 17:59 tmp\r\n",
      "drwxrwxr-x  4 nidhin nidhin       4096 Jan 13 17:50 train\r\n",
      "-rw-rw-r--  1 nidhin nidhin  196313674 Oct 23 17:23 train.json\r\n",
      "-rw-rw-r--  1 nidhin nidhin   44932785 Jan  7 20:28 train.json.7z\r\n",
      "-rw-rw-r--  1 nidhin nidhin    2275916 Jan  8 01:44 train_modified.zip\r\n",
      "drwxrwxr-x  4 nidhin nidhin       4096 Jan 13 17:50 valid\r\n"
     ]
    }
   ],
   "source": [
    "!ls -l {PATH}"
   ]
  },
  {
   "cell_type": "code",
   "execution_count": 8,
   "metadata": {},
   "outputs": [],
   "source": [
    "sz=299\n",
    "arch=resnext50\n",
    "bs=20"
   ]
  },
  {
   "cell_type": "code",
   "execution_count": 9,
   "metadata": {},
   "outputs": [],
   "source": [
    "tfms = tfms_from_model(arch, sz, aug_tfms=transforms_side_on, max_zoom=1.1)\n",
    "data = ImageClassifierData.from_paths(PATH, tfms=tfms, bs=bs,test_name='test',)\n",
    "learn = ConvLearner.pretrained(arch, data, precompute=True, ps=0.5)"
   ]
  },
  {
   "cell_type": "code",
   "execution_count": 10,
   "metadata": {},
   "outputs": [
    {
     "data": {
      "application/vnd.jupyter.widget-view+json": {
       "model_id": "1c47e830ad8d4efd9d449c34a9aa8948",
       "version_major": 2,
       "version_minor": 0
      },
      "text/html": [
       "<p>Failed to display Jupyter Widget of type <code>HBox</code>.</p>\n",
       "<p>\n",
       "  If you're reading this message in the Jupyter Notebook or JupyterLab Notebook, it may mean\n",
       "  that the widgets JavaScript is still loading. If this message persists, it\n",
       "  likely means that the widgets JavaScript library is either not installed or\n",
       "  not enabled. See the <a href=\"https://ipywidgets.readthedocs.io/en/stable/user_install.html\">Jupyter\n",
       "  Widgets Documentation</a> for setup instructions.\n",
       "</p>\n",
       "<p>\n",
       "  If you're reading this message in another frontend (for example, a static\n",
       "  rendering on GitHub or <a href=\"https://nbviewer.jupyter.org/\">NBViewer</a>),\n",
       "  it may mean that your frontend doesn't currently support widgets.\n",
       "</p>\n"
      ],
      "text/plain": [
       "HBox(children=(IntProgress(value=0, description='Epoch', max=8), HTML(value='')))"
      ]
     },
     "metadata": {},
     "output_type": "display_data"
    },
    {
     "name": "stdout",
     "output_type": "stream",
     "text": [
      "[ 0.       0.7091   0.45644  0.78529]                      \n",
      "[ 1.       0.6642   0.49435  0.78824]                       \n",
      "[ 2.       0.5934   0.42044  0.79706]                       \n",
      "[ 3.       0.58242  0.46514  0.78824]                       \n",
      "[ 4.       0.53562  0.46626  0.81765]                       \n",
      "[ 5.       0.49469  0.51166  0.80588]                       \n",
      "[ 6.       0.46883  0.43528  0.80588]                       \n",
      "[ 7.       0.4694   0.46571  0.81765]                       \n",
      "\n"
     ]
    }
   ],
   "source": [
    "learn.fit(1e-2, 8)\n",
    "learn.precompute=False"
   ]
  },
  {
   "cell_type": "code",
   "execution_count": 11,
   "metadata": {},
   "outputs": [
    {
     "data": {
      "application/vnd.jupyter.widget-view+json": {
       "model_id": "4874be7918924b13a812287bb62c8f8a",
       "version_major": 2,
       "version_minor": 0
      },
      "text/html": [
       "<p>Failed to display Jupyter Widget of type <code>HBox</code>.</p>\n",
       "<p>\n",
       "  If you're reading this message in the Jupyter Notebook or JupyterLab Notebook, it may mean\n",
       "  that the widgets JavaScript is still loading. If this message persists, it\n",
       "  likely means that the widgets JavaScript library is either not installed or\n",
       "  not enabled. See the <a href=\"https://ipywidgets.readthedocs.io/en/stable/user_install.html\">Jupyter\n",
       "  Widgets Documentation</a> for setup instructions.\n",
       "</p>\n",
       "<p>\n",
       "  If you're reading this message in another frontend (for example, a static\n",
       "  rendering on GitHub or <a href=\"https://nbviewer.jupyter.org/\">NBViewer</a>),\n",
       "  it may mean that your frontend doesn't currently support widgets.\n",
       "</p>\n"
      ],
      "text/plain": [
       "HBox(children=(IntProgress(value=0, description='Epoch', max=8), HTML(value='')))"
      ]
     },
     "metadata": {},
     "output_type": "display_data"
    },
    {
     "name": "stdout",
     "output_type": "stream",
     "text": [
      "[ 0.       0.53325  0.40753  0.81765]                      \n",
      "[ 1.       0.49706  0.37624  0.81765]                      \n",
      "[ 2.       0.45431  0.39204  0.80588]                      \n",
      "[ 3.       0.3943   0.39091  0.82647]                      \n",
      "[ 4.       0.42441  0.38083  0.80882]                      \n",
      "[ 5.       0.39892  0.38844  0.82059]                      \n",
      "[ 6.       0.40664  0.38123  0.81765]                      \n",
      "[ 7.       0.37856  0.3846   0.83235]                      \n",
      "\n"
     ]
    }
   ],
   "source": [
    "learn.fit(1e-2, 4, cycle_len=2)"
   ]
  },
  {
   "cell_type": "code",
   "execution_count": 12,
   "metadata": {},
   "outputs": [],
   "source": [
    "learn.unfreeze()\n",
    "lr=np.array([1e-4,1e-3,1e-2])"
   ]
  },
  {
   "cell_type": "code",
   "execution_count": 13,
   "metadata": {},
   "outputs": [
    {
     "data": {
      "application/vnd.jupyter.widget-view+json": {
       "model_id": "e48cabd921ef46359f4915c69339c932",
       "version_major": 2,
       "version_minor": 0
      },
      "text/html": [
       "<p>Failed to display Jupyter Widget of type <code>HBox</code>.</p>\n",
       "<p>\n",
       "  If you're reading this message in the Jupyter Notebook or JupyterLab Notebook, it may mean\n",
       "  that the widgets JavaScript is still loading. If this message persists, it\n",
       "  likely means that the widgets JavaScript library is either not installed or\n",
       "  not enabled. See the <a href=\"https://ipywidgets.readthedocs.io/en/stable/user_install.html\">Jupyter\n",
       "  Widgets Documentation</a> for setup instructions.\n",
       "</p>\n",
       "<p>\n",
       "  If you're reading this message in another frontend (for example, a static\n",
       "  rendering on GitHub or <a href=\"https://nbviewer.jupyter.org/\">NBViewer</a>),\n",
       "  it may mean that your frontend doesn't currently support widgets.\n",
       "</p>\n"
      ],
      "text/plain": [
       "HBox(children=(IntProgress(value=0, description='Epoch', max=9), HTML(value='')))"
      ]
     },
     "metadata": {},
     "output_type": "display_data"
    },
    {
     "name": "stdout",
     "output_type": "stream",
     "text": [
      "[ 0.       0.64825  1.3963   0.55   ]                      \n",
      "[ 1.       0.50004  0.62465  0.67353]                      \n",
      "[ 2.       0.38986  0.56299  0.68824]                      \n",
      "[ 3.       0.38554  0.41924  0.78824]                      \n",
      "[ 4.       0.34081  0.56143  0.70588]                      \n",
      "[ 5.       0.31654  0.54977  0.69412]                      \n",
      "[ 6.       0.33152  1.01832  0.51765]                      \n",
      "[ 7.       0.29405  0.67244  0.57353]                      \n",
      "[ 8.       0.21958  0.75355  0.49706]                      \n",
      "\n"
     ]
    }
   ],
   "source": [
    "learn.fit(lr, 3, cycle_len=3,)"
   ]
  },
  {
   "cell_type": "code",
   "execution_count": 14,
   "metadata": {},
   "outputs": [],
   "source": [
    "learn.save('224_all_50')"
   ]
  },
  {
   "cell_type": "code",
   "execution_count": 15,
   "metadata": {},
   "outputs": [],
   "source": [
    "learn.load('224_all_50')"
   ]
  },
  {
   "cell_type": "code",
   "execution_count": 16,
   "metadata": {},
   "outputs": [
    {
     "name": "stdout",
     "output_type": "stream",
     "text": [
      "                                             \r"
     ]
    },
    {
     "data": {
      "text/plain": [
       "(0.31361453597813937, 0.88161993769470404)"
      ]
     },
     "execution_count": 16,
     "metadata": {},
     "output_type": "execute_result"
    }
   ],
   "source": [
    "log_preds,y = learn.TTA()\n",
    "preds = np.mean(np.exp(log_preds),axis=0)\n",
    "(metrics.log_loss(y,preds), accuracy(preds,y))"
   ]
  },
  {
   "cell_type": "code",
   "execution_count": 23,
   "metadata": {},
   "outputs": [
    {
     "name": "stdout",
     "output_type": "stream",
     "text": [
      "                                              \r"
     ]
    }
   ],
   "source": [
    "log_preds,y = learn.TTA(is_test=True)"
   ]
  },
  {
   "cell_type": "code",
   "execution_count": 24,
   "metadata": {},
   "outputs": [
    {
     "name": "stdout",
     "output_type": "stream",
     "text": [
      "Saving to /home/nidhin/data/iceberg/sub/resnext50_sz299_bs20subm.gz\n"
     ]
    }
   ],
   "source": [
    "test_df = pd.read_json(PATH+\"/test.json\")\n",
    "helper.make_test_file(log_preds,test_df,model_name='resnext50_sz299_bs20',\n",
    "                      classes=data.classes,\n",
    "                      submission_folder =f'{PATH}sub'\n",
    "                     )"
   ]
  },
  {
   "cell_type": "code",
   "execution_count": null,
   "metadata": {},
   "outputs": [],
   "source": []
  },
  {
   "cell_type": "code",
   "execution_count": null,
   "metadata": {},
   "outputs": [],
   "source": []
  }
 ],
 "metadata": {
  "kernelspec": {
   "display_name": "Python [default]",
   "language": "python",
   "name": "python3"
  },
  "language_info": {
   "codemirror_mode": {
    "name": "ipython",
    "version": 3
   },
   "file_extension": ".py",
   "mimetype": "text/x-python",
   "name": "python",
   "nbconvert_exporter": "python",
   "pygments_lexer": "ipython3",
   "version": "3.6.4"
  }
 },
 "nbformat": 4,
 "nbformat_minor": 2
}
