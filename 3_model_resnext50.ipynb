{
 "cells": [
  {
   "cell_type": "markdown",
   "metadata": {},
   "source": [
    "# Kaggle Competition:  Iceberg or Ship"
   ]
  },
  {
   "cell_type": "markdown",
   "metadata": {},
   "source": [
    "## Notebook 3\n",
    "## run resnext50 architecture"
   ]
  },
  {
   "cell_type": "code",
   "execution_count": 1,
   "metadata": {},
   "outputs": [
    {
     "name": "stdout",
     "output_type": "stream",
     "text": [
      "total 1812\r\n",
      "-rw-rw-r-- 1 nidhin nidhin 623462 Jan 13 22:48 1_getdata.ipynb\r\n",
      "-rw-rw-r-- 1 nidhin nidhin 245619 Jan 13 21:50 2_model_resnet34.ipynb\r\n",
      "-rw-rw-r-- 1 nidhin nidhin  13184 Jan 13 23:37 3_model_resnext50.ipynb\r\n",
      "-rw-rw-r-- 1 nidhin nidhin  64324 Jan 14 00:24 4_resnext_resize.ipynb\r\n",
      "-rw-rw-r-- 1 nidhin nidhin 137540 Jan 13 21:44 baseline.ipynb\r\n",
      "-rw-rw-r-- 1 nidhin nidhin    536 Jan 13 19:15 helper.py\r\n",
      "-rw-rw-r-- 1 nidhin nidhin 747405 Jan 13 22:32 other_groverpr.ipynb\r\n",
      "drwxrwxr-x 2 nidhin nidhin   4096 Jan 13 19:15 __pycache__\r\n",
      "-rw-rw-r-- 1 nidhin nidhin    185 Jan 13 17:48 README.md\r\n"
     ]
    }
   ],
   "source": [
    "!ls -l"
   ]
  },
  {
   "cell_type": "code",
   "execution_count": 2,
   "metadata": {},
   "outputs": [],
   "source": [
    "# Put these at the top of every notebook, to get automatic reloading and inline plotting\n",
    "%reload_ext autoreload\n",
    "%autoreload 2\n",
    "%matplotlib inline"
   ]
  },
  {
   "cell_type": "code",
   "execution_count": 3,
   "metadata": {},
   "outputs": [],
   "source": [
    "from fastai.imports import *"
   ]
  },
  {
   "cell_type": "code",
   "execution_count": 4,
   "metadata": {},
   "outputs": [],
   "source": [
    "# This file contains all the main external libs we'll use\n",
    "from fastai.imports import *\n",
    "from fastai.transforms import *\n",
    "from fastai.conv_learner import *\n",
    "from fastai.model import *\n",
    "from fastai.dataset import *\n",
    "from fastai.sgdr import *\n",
    "from fastai.plots import *\n",
    "import pandas as pd\n",
    "import numpy as np\n",
    "import shutil\n",
    "from IPython.display import FileLink, FileLinks\n",
    "\n",
    "from sklearn.model_selection import train_test_split\n",
    "import helper"
   ]
  },
  {
   "cell_type": "code",
   "execution_count": 5,
   "metadata": {},
   "outputs": [],
   "source": [
    "#PATH = \"/home/nidhin/data/iceberg/\"\n",
    "PATH = os.path.expanduser(\"~/data/iceberg/\")"
   ]
  },
  {
   "cell_type": "code",
   "execution_count": 6,
   "metadata": {},
   "outputs": [
    {
     "name": "stdout",
     "output_type": "stream",
     "text": [
      "total 1975500\r\n",
      "drwxrwxr-x  6 nidhin nidhin       4096 Jan 13 21:37 composites\r\n",
      "drwxrwxr-x  2 nidhin nidhin       4096 Jan 13 19:06 models\r\n",
      "-rw-rw-r--  1 nidhin nidhin     117951 Oct 23 17:27 sample_submission.csv\r\n",
      "-rw-rw-r--  1 nidhin nidhin      38566 Jan  7 20:28 sample_submission.csv.7z\r\n",
      "drwxrwxr-x  3 nidhin nidhin       4096 Jan 13 21:20 sub\r\n",
      "drwxrwxr-x  2 nidhin nidhin     286720 Jan 13 22:48 test\r\n",
      "-rw-rw-r--  1 nidhin nidhin 1521771850 Oct 23 17:27 test.json\r\n",
      "-rw-rw-r--  1 nidhin nidhin  257127394 Jan  7 20:28 test.json.7z\r\n",
      "drwxrwxr-x 15 nidhin nidhin       4096 Jan 13 21:50 tmp\r\n",
      "drwxrwxr-x  4 nidhin nidhin       4096 Jan 13 22:48 train\r\n",
      "-rw-rw-r--  1 nidhin nidhin  196313674 Oct 23 17:23 train.json\r\n",
      "-rw-rw-r--  1 nidhin nidhin   44932785 Jan  7 20:28 train.json.7z\r\n",
      "-rw-rw-r--  1 nidhin nidhin    2275916 Jan  8 01:44 train_modified.zip\r\n",
      "drwxrwxr-x  4 nidhin nidhin       4096 Jan 13 22:48 valid\r\n"
     ]
    }
   ],
   "source": [
    "!ls -l {PATH}"
   ]
  },
  {
   "cell_type": "code",
   "execution_count": 7,
   "metadata": {},
   "outputs": [],
   "source": [
    "sz=299\n",
    "arch=resnext50\n",
    "bs=20"
   ]
  },
  {
   "cell_type": "code",
   "execution_count": 8,
   "metadata": {},
   "outputs": [],
   "source": [
    "tfms = tfms_from_model(arch, sz, aug_tfms=transforms_side_on, max_zoom=1.1)\n",
    "data = ImageClassifierData.from_paths(PATH, tfms=tfms, bs=bs,test_name='test',)\n",
    "learn = ConvLearner.pretrained(arch, data, precompute=True, ps=0.5)"
   ]
  },
  {
   "cell_type": "code",
   "execution_count": 9,
   "metadata": {},
   "outputs": [
    {
     "data": {
      "application/vnd.jupyter.widget-view+json": {
       "model_id": "4fc530b697b243ae8780c87634783c34",
       "version_major": 2,
       "version_minor": 0
      },
      "text/html": [
       "<p>Failed to display Jupyter Widget of type <code>HBox</code>.</p>\n",
       "<p>\n",
       "  If you're reading this message in the Jupyter Notebook or JupyterLab Notebook, it may mean\n",
       "  that the widgets JavaScript is still loading. If this message persists, it\n",
       "  likely means that the widgets JavaScript library is either not installed or\n",
       "  not enabled. See the <a href=\"https://ipywidgets.readthedocs.io/en/stable/user_install.html\">Jupyter\n",
       "  Widgets Documentation</a> for setup instructions.\n",
       "</p>\n",
       "<p>\n",
       "  If you're reading this message in another frontend (for example, a static\n",
       "  rendering on GitHub or <a href=\"https://nbviewer.jupyter.org/\">NBViewer</a>),\n",
       "  it may mean that your frontend doesn't currently support widgets.\n",
       "</p>\n"
      ],
      "text/plain": [
       "HBox(children=(IntProgress(value=0, description='Epoch', max=8), HTML(value='')))"
      ]
     },
     "metadata": {},
     "output_type": "display_data"
    },
    {
     "name": "stdout",
     "output_type": "stream",
     "text": [
      "[ 0.       0.63076  0.5576   0.75   ]                      \n",
      "[ 1.       0.58425  0.42959  0.78824]                       \n",
      "[ 2.       0.58511  0.4956   0.78529]                       \n",
      "[ 3.       0.49668  0.45511  0.78824]                       \n",
      "[ 4.       0.49822  0.44512  0.81176]                       \n",
      "[ 5.       0.46349  0.47785  0.78824]                       \n",
      "[ 6.       0.42828  0.43138  0.81471]                       \n",
      "[ 7.       0.45766  0.50244  0.8    ]                       \n",
      "\n"
     ]
    }
   ],
   "source": [
    "learn.fit(1e-2, 8)\n",
    "learn.precompute=False"
   ]
  },
  {
   "cell_type": "code",
   "execution_count": 10,
   "metadata": {},
   "outputs": [
    {
     "data": {
      "application/vnd.jupyter.widget-view+json": {
       "model_id": "9b16f28d7e9e46be852ae9bea9501797",
       "version_major": 2,
       "version_minor": 0
      },
      "text/html": [
       "<p>Failed to display Jupyter Widget of type <code>HBox</code>.</p>\n",
       "<p>\n",
       "  If you're reading this message in the Jupyter Notebook or JupyterLab Notebook, it may mean\n",
       "  that the widgets JavaScript is still loading. If this message persists, it\n",
       "  likely means that the widgets JavaScript library is either not installed or\n",
       "  not enabled. See the <a href=\"https://ipywidgets.readthedocs.io/en/stable/user_install.html\">Jupyter\n",
       "  Widgets Documentation</a> for setup instructions.\n",
       "</p>\n",
       "<p>\n",
       "  If you're reading this message in another frontend (for example, a static\n",
       "  rendering on GitHub or <a href=\"https://nbviewer.jupyter.org/\">NBViewer</a>),\n",
       "  it may mean that your frontend doesn't currently support widgets.\n",
       "</p>\n"
      ],
      "text/plain": [
       "HBox(children=(IntProgress(value=0, description='Epoch', max=8), HTML(value='')))"
      ]
     },
     "metadata": {},
     "output_type": "display_data"
    },
    {
     "name": "stdout",
     "output_type": "stream",
     "text": [
      "[ 0.       0.74512  0.52371  0.73823]                      \n",
      "[ 1.       0.55291  0.42364  0.79118]                      \n",
      "[ 2.       0.53689  0.43012  0.79118]                      \n",
      "[ 3.       0.48201  0.55008  0.76177]                      \n",
      "[ 4.       0.49263  0.48672  0.77647]                      \n",
      "[ 5.       0.43207  0.49802  0.76471]                      \n",
      "[ 6.       0.45387  0.42934  0.78824]                      \n",
      "[ 7.       0.46766  0.41014  0.8    ]                      \n",
      "\n"
     ]
    }
   ],
   "source": [
    "learn.fit(1e-2, 4, cycle_len=2)"
   ]
  },
  {
   "cell_type": "code",
   "execution_count": 11,
   "metadata": {},
   "outputs": [],
   "source": [
    "learn.unfreeze()\n",
    "lr=np.array([1e-4,1e-3,1e-2])"
   ]
  },
  {
   "cell_type": "code",
   "execution_count": 12,
   "metadata": {},
   "outputs": [
    {
     "data": {
      "application/vnd.jupyter.widget-view+json": {
       "model_id": "df8f296691344c8da7ea2f308c8f4737",
       "version_major": 2,
       "version_minor": 0
      },
      "text/html": [
       "<p>Failed to display Jupyter Widget of type <code>HBox</code>.</p>\n",
       "<p>\n",
       "  If you're reading this message in the Jupyter Notebook or JupyterLab Notebook, it may mean\n",
       "  that the widgets JavaScript is still loading. If this message persists, it\n",
       "  likely means that the widgets JavaScript library is either not installed or\n",
       "  not enabled. See the <a href=\"https://ipywidgets.readthedocs.io/en/stable/user_install.html\">Jupyter\n",
       "  Widgets Documentation</a> for setup instructions.\n",
       "</p>\n",
       "<p>\n",
       "  If you're reading this message in another frontend (for example, a static\n",
       "  rendering on GitHub or <a href=\"https://nbviewer.jupyter.org/\">NBViewer</a>),\n",
       "  it may mean that your frontend doesn't currently support widgets.\n",
       "</p>\n"
      ],
      "text/plain": [
       "HBox(children=(IntProgress(value=0, description='Epoch', max=9), HTML(value='')))"
      ]
     },
     "metadata": {},
     "output_type": "display_data"
    },
    {
     "name": "stdout",
     "output_type": "stream",
     "text": [
      "[ 0.       0.59807  0.52486  0.78529]                      \n",
      "[ 1.       0.45908  0.35837  0.82353]                      \n",
      "[ 2.       0.37501  0.29855  0.87353]                      \n",
      "[ 3.       0.42569  0.35269  0.82647]                      \n",
      "[ 4.       0.34703  0.30805  0.86177]                      \n",
      "[ 5.       0.29847  0.31136  0.86177]                      \n",
      "[ 6.       0.28618  0.28742  0.87941]                      \n",
      "[ 7.       0.26019  0.28913  0.89118]                      \n",
      "[ 8.       0.22024  0.32283  0.85882]                      \n",
      "\n"
     ]
    }
   ],
   "source": [
    "learn.fit(lr, 3, cycle_len=3,)"
   ]
  },
  {
   "cell_type": "code",
   "execution_count": 13,
   "metadata": {},
   "outputs": [],
   "source": [
    "learn.save('224_all_50')"
   ]
  },
  {
   "cell_type": "code",
   "execution_count": 14,
   "metadata": {},
   "outputs": [],
   "source": [
    "learn.load('224_all_50')"
   ]
  },
  {
   "cell_type": "code",
   "execution_count": 15,
   "metadata": {},
   "outputs": [
    {
     "name": "stdout",
     "output_type": "stream",
     "text": [
      "                                             \r"
     ]
    },
    {
     "data": {
      "text/plain": [
       "(0.2914880899536279, 0.87850467289719625)"
      ]
     },
     "execution_count": 15,
     "metadata": {},
     "output_type": "execute_result"
    }
   ],
   "source": [
    "log_preds,y = learn.TTA()\n",
    "preds = np.mean(np.exp(log_preds),axis=0)\n",
    "(metrics.log_loss(y,preds), accuracy(preds,y))"
   ]
  },
  {
   "cell_type": "code",
   "execution_count": 16,
   "metadata": {},
   "outputs": [
    {
     "name": "stdout",
     "output_type": "stream",
     "text": [
      "                                              \r"
     ]
    }
   ],
   "source": [
    "log_preds,y = learn.TTA(is_test=True)"
   ]
  },
  {
   "cell_type": "code",
   "execution_count": 17,
   "metadata": {},
   "outputs": [
    {
     "name": "stdout",
     "output_type": "stream",
     "text": [
      "Saving to /home/nidhin/data/iceberg/sub/resnext50_sz299_bs20_colorscalesubm.gz\n"
     ]
    }
   ],
   "source": [
    "test_df = pd.read_json(PATH+\"/test.json\")\n",
    "helper.make_test_file(log_preds,test_df,model_name='resnext50_sz299_bs20_colorscale',\n",
    "                      classes=data.classes,\n",
    "                      submission_folder =f'{PATH}sub'\n",
    "                     )"
   ]
  },
  {
   "cell_type": "code",
   "execution_count": null,
   "metadata": {},
   "outputs": [],
   "source": []
  },
  {
   "cell_type": "code",
   "execution_count": null,
   "metadata": {},
   "outputs": [],
   "source": []
  }
 ],
 "metadata": {
  "kernelspec": {
   "display_name": "Python [default]",
   "language": "python",
   "name": "python3"
  },
  "language_info": {
   "codemirror_mode": {
    "name": "ipython",
    "version": 3
   },
   "file_extension": ".py",
   "mimetype": "text/x-python",
   "name": "python",
   "nbconvert_exporter": "python",
   "pygments_lexer": "ipython3",
   "version": "3.6.4"
  }
 },
 "nbformat": 4,
 "nbformat_minor": 2
}
